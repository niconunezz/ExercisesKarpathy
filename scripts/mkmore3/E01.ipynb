{
 "cells": [
  {
   "cell_type": "code",
   "execution_count": 280,
   "metadata": {},
   "outputs": [],
   "source": [
    "import torch\n",
    "import torch.nn.functional as F\n",
    "import matplotlib.pyplot as plt"
   ]
  },
  {
   "cell_type": "code",
   "execution_count": 281,
   "metadata": {},
   "outputs": [],
   "source": [
    "def encoders(f):\n",
    "    words = f.read().splitlines()\n",
    "    names = ''.join(words)\n",
    "    vocab = sorted(list(set(names)))\n",
    "    vocab = ['.'] + vocab\n",
    "    vocab_size = len(vocab)\n",
    "    stoi = {c: i for i, c in enumerate(vocab)}\n",
    "    itos = {c: i for i, c in stoi.items()}\n",
    "\n",
    "    return vocab, vocab_size, stoi, itos, words\n",
    "\n",
    "def process(words,stoi):\n",
    "    X = []\n",
    "    Y = []\n",
    "    block_size = 3\n",
    "    for w in words:\n",
    "        context = [0]*block_size\n",
    "        for c in w+ '.':\n",
    "            X.append(context)\n",
    "            Y.append(stoi[c])\n",
    "            context = context[1:] + [stoi[c]]\n",
    "    \n",
    "    X = torch.tensor(X)\n",
    "    Y = torch.tensor(Y)\n",
    "    \n",
    "    return X,Y\n",
    "\n",
    "def data():\n",
    "    with open('names.txt', 'r') as f:\n",
    "        vocab, vocab_size, stoi, itos, words = encoders(f)\n",
    "        n1 = int(len(words)*0.8)\n",
    "        n2 = int(len(words)*0.9)\n",
    "        xtrain, ytrain = process(words[:n1],stoi)\n",
    "        xtest, ytest = process(words[n1:n2],stoi)\n",
    "        xval, yval = process(words[n2:],stoi)\n",
    "\n",
    "        print(f\"xtrain and ytrain shape: {xtrain.shape}, {ytrain.shape}\")\n",
    "        print(f\"xtest and ytest shape: {xtest.shape}, {ytest.shape}\")\n",
    "        print(f\"xval and yval shape: {xval.shape}, {yval.shape}\")\n",
    "        return xtrain, ytrain, xtest, ytest, xval, yval, vocab_size, stoi, itos"
   ]
  },
  {
   "cell_type": "code",
   "execution_count": 282,
   "metadata": {},
   "outputs": [
    {
     "name": "stdout",
     "output_type": "stream",
     "text": [
      "xtrain and ytrain shape: torch.Size([182778, 3]), torch.Size([182778])\n",
      "xtest and ytest shape: torch.Size([22633, 3]), torch.Size([22633])\n",
      "xval and yval shape: torch.Size([22735, 3]), torch.Size([22735])\n"
     ]
    }
   ],
   "source": [
    "xtrain, ytrain, xtest, ytest, xval, yval, vocab_size, stoi, itos = data()"
   ]
  },
  {
   "cell_type": "code",
   "execution_count": 283,
   "metadata": {},
   "outputs": [
    {
     "name": "stdout",
     "output_type": "stream",
     "text": [
      "Number of parameters: 46227\n"
     ]
    }
   ],
   "source": [
    "class Linear:\n",
    "    def __init__(self, fan_in, fan_out, bias = True):\n",
    "        # set W and b to zero\n",
    "        self.W = torch.zeros(fan_in, fan_out )\n",
    "        self.b = torch.zeros(fan_out) if bias else None\n",
    "    \n",
    "    def __call__(self, x):\n",
    "        self.out = x @ self.W\n",
    "        if self.b != None:\n",
    "            self.out += self.b\n",
    "            return self.out\n",
    "        else:\n",
    "            return self.out\n",
    "    \n",
    "    def parameters(self):\n",
    "        return [self.W] + ([] if self.b == None else [self.b])\n",
    "\n",
    "\n",
    "class BatchNorm1d:\n",
    "    def __init__(self, dim, eps=1e-5, momentum=0.1, training=True):\n",
    "        self.eps = eps\n",
    "        self.momentum = momentum\n",
    "        self.training = training\n",
    "        # params\n",
    "\n",
    "        self.gamma = torch.zeros(dim)\n",
    "        self.beta = torch.zeros(dim)\n",
    "        # buffers\n",
    "        self.running_mean = torch.zeros(dim)\n",
    "        self.running_var = torch.ones(dim)\n",
    "    def __call__(self,x):\n",
    "        if self.training:\n",
    "            xmean = x.mean(dim=0, keepdim=True)\n",
    "            xvar = x.var(dim=0, unbiased=True, keepdim=True)\n",
    "        else:\n",
    "            xmean = self.running_mean\n",
    "            xvar = self.running_var\n",
    "        \n",
    "        xhat = (x - xmean) / torch.sqrt((xvar + self.eps))\n",
    "        self.out = xhat * self.gamma + self.beta\n",
    "\n",
    "        # update buffers\n",
    "        if self.training:\n",
    "            self.running_mean = self.momentum * xmean + (1 - self.momentum) * self.running_mean\n",
    "            self.running_var = self.momentum * xvar + (1 - self.momentum) * self.running_var\n",
    "        \n",
    "        return self.out\n",
    "    def parameters(self):\n",
    "        return [self.gamma, self.beta]\n",
    "\n",
    "class Tanh:\n",
    "    def __call__(self, x):\n",
    "        self.out = torch.tanh(x)\n",
    "        return self.out\n",
    "    def parameters(self):\n",
    "        return []\n",
    "    \n",
    "n_emb = 10\n",
    "n_hidden = 100\n",
    "\n",
    "C = torch.randn(vocab_size, n_emb)\n",
    "# layers = [Linear(n_emb*3, n_hidden), BatchNorm1d(n_hidden), Tanh(),\n",
    "#           Linear(n_hidden, n_hidden), BatchNorm1d(n_hidden),Tanh(),\n",
    "#           Linear(n_hidden, n_hidden), BatchNorm1d(n_hidden),Tanh(),\n",
    "#           Linear(n_hidden, n_hidden), BatchNorm1d(n_hidden), Tanh(),\n",
    "#           Linear(n_hidden, n_hidden), BatchNorm1d(n_hidden), Tanh(),\n",
    "#           Linear(n_hidden, vocab_size),\n",
    "#           ]\n",
    "\n",
    "layers = [Linear(n_emb*3, n_hidden),  Tanh(),\n",
    "          Linear(n_hidden, n_hidden), Tanh(),\n",
    "          Linear(n_hidden, n_hidden), Tanh(),\n",
    "          Linear(n_hidden, n_hidden), Tanh(),\n",
    "          Linear(n_hidden, n_hidden), Tanh(),\n",
    "          Linear(n_hidden, vocab_size),\n",
    "          ]\n",
    "\n",
    "with torch.no_grad():\n",
    "    layers[-1].W *= 0.1\n",
    "\n",
    "    for layer in layers[:-1]:\n",
    "        if isinstance(layer, Linear):\n",
    "            layer.W *= 5/3\n",
    "\n",
    "parameters = [param for layer in layers for param in layer.parameters()]\n",
    "print(f\"Number of parameters: {sum(param.nelement() for param in parameters)}\")\n",
    "for p in parameters:\n",
    "    p.requires_grad = True"
   ]
  },
  {
   "cell_type": "code",
   "execution_count": 284,
   "metadata": {},
   "outputs": [
    {
     "name": "stdout",
     "output_type": "stream",
     "text": [
      "Step 0, Loss 3.295837163925171\n",
      "Step 400, Loss 2.7830491065979004\n",
      "Step 800, Loss 2.9195713996887207\n",
      "Step 1200, Loss 2.9010536670684814\n",
      "Step 1600, Loss 2.68339467048645\n"
     ]
    }
   ],
   "source": [
    "max_steps = 2000\n",
    "batch_size = 32\n",
    "lossi = []\n",
    "\n",
    "stepi = []\n",
    "ud = []\n",
    "for i in range(max_steps):\n",
    "    ix = torch.randint(0, xtrain.shape[0], (batch_size,))\n",
    "    xb, yb = xtrain[ix], ytrain[ix]\n",
    "\n",
    "    emb = C[xb]\n",
    "    x = emb.view(-1, xtrain.shape[1]*n_emb) # n, n_emb*block_size\n",
    "\n",
    "    for layer in layers:\n",
    "        x = layer(x)\n",
    "    \n",
    "    loss = F.cross_entropy(x, yb)\n",
    "    \n",
    "    for layer in layers:\n",
    "        layer.out.retain_grad()\n",
    "    for p in parameters:\n",
    "        p.grad = None\n",
    "    loss.backward()\n",
    "    lossi.append(loss.item())\n",
    "    lr = 1 if i < max_steps/2 else 0.01\n",
    "    \n",
    "    with torch.no_grad():\n",
    "        for p in parameters:\n",
    "            p -= lr * p.grad\n",
    "    \n",
    "\n",
    "    with torch.no_grad():\n",
    "        ud.append([((lr*p.grad.std())/p.data.std()).log10().item() for p in parameters])\n",
    "\n",
    "    \n",
    "    if i % (max_steps//5) == 0:\n",
    "        print(f\"Step {i}, Loss {loss.item()}\")\n"
   ]
  },
  {
   "cell_type": "code",
   "execution_count": 285,
   "metadata": {},
   "outputs": [
    {
     "data": {
      "text/plain": [
       "[<matplotlib.lines.Line2D at 0x138b9d0c2b0>]"
      ]
     },
     "execution_count": 285,
     "metadata": {},
     "output_type": "execute_result"
    },
    {
     "data": {
      "image/png": "[encoded data removed]",
      "text/plain": [
       "<Figure size 640x480 with 1 Axes>"
      ]
     },
     "metadata": {},
     "output_type": "display_data"
    }
   ],
   "source": [
    "# We can see the model learns\n",
    "plt.plot(lossi)"
   ]
  },
  {
   "cell_type": "code",
   "execution_count": 286,
   "metadata": {},
   "outputs": [
    {
     "name": "stdout",
     "output_type": "stream",
     "text": [
      "Param 0, grad mean: 0.0, grad std: 0.0\n",
      "Param 1, grad mean: 0.0, grad std: 0.0\n",
      "Param 2, grad mean: 0.0, grad std: 0.0\n",
      "Param 3, grad mean: 0.0, grad std: 0.0\n",
      "Param 4, grad mean: 0.0, grad std: 0.0\n",
      "Param 5, grad mean: 0.0, grad std: 0.0\n",
      "Param 6, grad mean: 0.0, grad std: 0.0\n",
      "Param 7, grad mean: 0.0, grad std: 0.0\n",
      "Param 8, grad mean: 0.0, grad std: 0.0\n",
      "Param 9, grad mean: 0.0, grad std: 0.0\n",
      "Param 10, grad mean: 0.0, grad std: 0.0\n",
      "Param 11, grad mean: 7.588554229442934e-10, grad std: 0.03516962379217148\n"
     ]
    }
   ],
   "source": [
    "for i,p in enumerate(parameters):\n",
    "    print(f\"Param {i}, grad mean: {p.grad.mean().item()}, grad std: {p.grad.std().item()}\")"
   ]
  },
  {
   "cell_type": "code",
   "execution_count": 287,
   "metadata": {},
   "outputs": [
    {
     "name": "stdout",
     "output_type": "stream",
     "text": [
      "layer 0: mean 0.0, std 0.0, all zeros: True\n",
      "layer 1: mean 0.0, std 0.0, all zeros: True\n",
      "layer 2: mean 0.0, std 0.0, all zeros: True\n",
      "layer 3: mean 0.0, std 0.0, all zeros: True\n",
      "layer 4: mean 0.0, std 0.0, all zeros: True\n",
      "layer 5: mean 0.0, std 0.0, all zeros: True\n",
      "layer 6: mean 0.0, std 0.0, all zeros: True\n",
      "layer 7: mean 0.0, std 0.0, all zeros: True\n",
      "layer 8: mean 0.0, std 0.0, all zeros: True\n",
      "layer 9: mean 0.0, std 0.0, all zeros: True\n",
      "layer 10: mean -9.33219723719958e-07, std 1.173477053642273, all zeros: False\n",
      "tensor(False)\n"
     ]
    }
   ],
   "source": [
    "# everything zero until the last layer\n",
    "for i,l in enumerate(layers):\n",
    "    t = l.out\n",
    "    print(f'layer {i}: mean {t.mean()}, std {t.std()}, all zeros: {torch.all(torch.zeros(t.shape) == t)}')\n",
    "\n",
    "    if i==10:\n",
    "        print(torch.all(t == parameters[-1]))"
   ]
  },
  {
   "cell_type": "markdown",
   "metadata": {},
   "source": [
    "## Conclusion"
   ]
  },
  {
   "cell_type": "code",
   "execution_count": 288,
   "metadata": {},
   "outputs": [],
   "source": [
    "# In the first iteration, the output of the model is zero\n",
    "# as every weight and bias is zero. Loss.backward() sets gradient zero\n",
    "# to every parameter except the last layer bias as it is the only one\n",
    "# that contributes to the loss. With this, we can conclude that this last\n",
    "# bias is the only parameter in the whole model that learns, making the\n",
    "# model trash :P"
   ]
  }
 ],
 "metadata": {
  "kernelspec": {
   "display_name": "venv",
   "language": "python",
   "name": "python3"
  },
  "language_info": {
   "codemirror_mode": {
    "name": "ipython",
    "version": 3
   },
   "file_extension": ".py",
   "mimetype": "text/x-python",
   "name": "python",
   "nbconvert_exporter": "python",
   "pygments_lexer": "ipython3",
   "version": "3.10.10"
  }
 },
 "nbformat": 4,
 "nbformat_minor": 2
}
