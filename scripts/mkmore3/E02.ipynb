{
 "cells": [
  {
   "cell_type": "code",
   "execution_count": 591,
   "metadata": {},
   "outputs": [],
   "source": [
    "#E02: BatchNorm, unlike other normalization layers like LayerNorm/GroupNorm etc. has the big advantage that after training,\n",
    "# the batchnorm gamma/beta can be \"folded into\" the weights of the preceeding Linear layers, effectively erasing the need \n",
    "# to forward it at test time. Set up a small 3-layer MLP with batchnorms, train the network, then \"fold\" the batchnorm gamma/beta\n",
    "# into the preceeding Linear layer's W,b by creating a new W2, b2 and erasing the batch norm. Verify that this gives the same forward \n",
    "# pass during inference. i.e. we see that the batchnorm is there just for stabilizing the training, and can be thrown out after training is done! pretty cool."
   ]
  },
  {
   "cell_type": "code",
   "execution_count": 592,
   "metadata": {},
   "outputs": [],
   "source": [
    "import torch\n",
    "import torch.nn.functional as F\n",
    "import matplotlib.pyplot as plt"
   ]
  },
  {
   "cell_type": "code",
   "execution_count": 593,
   "metadata": {},
   "outputs": [],
   "source": [
    "def encoders(f):\n",
    "    words = f.read().splitlines()\n",
    "    names = ''.join(words)\n",
    "    vocab = sorted(list(set(names)))\n",
    "    vocab = ['.'] + vocab\n",
    "    vocab_size = len(vocab)\n",
    "    stoi = {c: i for i, c in enumerate(vocab)}\n",
    "    itos = {c: i for i, c in stoi.items()}\n",
    "\n",
    "    return vocab, vocab_size, stoi, itos, words\n",
    "\n",
    "def process(words,stoi):\n",
    "    X = []\n",
    "    Y = []\n",
    "    block_size = 3\n",
    "    for w in words:\n",
    "        context = [0]*block_size\n",
    "        for c in w+ '.':\n",
    "            X.append(context)\n",
    "            Y.append(stoi[c])\n",
    "            context = context[1:] + [stoi[c]]\n",
    "    \n",
    "    X = torch.tensor(X)\n",
    "    Y = torch.tensor(Y)\n",
    "    \n",
    "    return X,Y\n",
    "\n",
    "def data():\n",
    "    with open('names.txt', 'r') as f:\n",
    "        vocab, vocab_size, stoi, itos, words = encoders(f)\n",
    "        n1 = int(len(words)*0.8)\n",
    "        n2 = int(len(words)*0.9)\n",
    "        xtrain, ytrain = process(words[:n1],stoi)\n",
    "        xtest, ytest = process(words[n1:n2],stoi)\n",
    "        xval, yval = process(words[n2:],stoi)\n",
    "\n",
    "        print(f\"xtrain and ytrain shape: {xtrain.shape}, {ytrain.shape}\")\n",
    "        print(f\"xtest and ytest shape: {xtest.shape}, {ytest.shape}\")\n",
    "        print(f\"xval and yval shape: {xval.shape}, {yval.shape}\")\n",
    "        return xtrain, ytrain, xtest, ytest, xval, yval, vocab_size, stoi, itos"
   ]
  },
  {
   "cell_type": "code",
   "execution_count": 594,
   "metadata": {},
   "outputs": [
    {
     "name": "stdout",
     "output_type": "stream",
     "text": [
      "xtrain and ytrain shape: torch.Size([182778, 3]), torch.Size([182778])\n",
      "xtest and ytest shape: torch.Size([22633, 3]), torch.Size([22633])\n",
      "xval and yval shape: torch.Size([22735, 3]), torch.Size([22735])\n"
     ]
    }
   ],
   "source": [
    "xtrain, ytrain, xtest, ytest, xval, yval, vocab_size, stoi, itos = data()"
   ]
  },
  {
   "cell_type": "code",
   "execution_count": 595,
   "metadata": {},
   "outputs": [
    {
     "name": "stdout",
     "output_type": "stream",
     "text": [
      "Number of parameters: 16381\n"
     ]
    }
   ],
   "source": [
    "class Linear:\n",
    "    def __init__(self, fan_in, fan_out, bias = True):\n",
    "        self.W = torch.randn(fan_in, fan_out ) / fan_in**0.5\n",
    "        self.b = torch.zeros(fan_out) if bias else None\n",
    "    \n",
    "    def __call__(self, x):\n",
    "        self.out = x @ self.W\n",
    "        if self.b != None:\n",
    "            return self.out + self.b\n",
    "        else:\n",
    "            return self.out\n",
    "    \n",
    "    def parameters(self):\n",
    "        return [self.W] + ([] if self.b == None else [self.b])\n",
    "\n",
    "\n",
    "class BatchNorm1d:\n",
    "    def __init__(self, dim, eps=1e-5, momentum=0.1):\n",
    "        self.eps = eps\n",
    "        self.momentum = momentum\n",
    "        # params\n",
    "        self.gamma = torch.ones(dim)\n",
    "        self.beta = torch.zeros(dim)\n",
    "        # buffers\n",
    "        self.running_mean = torch.zeros(dim)\n",
    "        self.running_var = torch.ones(dim)\n",
    "    def __call__(self,x, training):\n",
    "        if training:\n",
    "            xmean = x.mean(dim=0, keepdim=True)\n",
    "            xvar = x.var(dim=0, unbiased=True, keepdim=True)\n",
    "        else:\n",
    "            xmean = self.running_mean\n",
    "            xvar = self.running_var\n",
    "        \n",
    "        xhat =  (x - xmean) / torch.sqrt((xvar + self.eps))\n",
    "        self.out = xhat * self.gamma + self.beta\n",
    "\n",
    "        # update buffers\n",
    "        if training:\n",
    "            self.running_mean = self.momentum * xmean + (1 - self.momentum) * self.running_mean\n",
    "            self.running_var = self.momentum * xvar + (1 - self.momentum) * self.running_var\n",
    "        \n",
    "        return self.out\n",
    "    def parameters(self):\n",
    "        return [self.gamma, self.beta]\n",
    "\n",
    "class Tanh:\n",
    "    def __call__(self, x):\n",
    "        self.out = torch.tanh(x)\n",
    "        return self.out\n",
    "    def parameters(self):\n",
    "        return []\n",
    "    \n",
    "n_emb = 10\n",
    "n_hidden = 100\n",
    "\n",
    "C = torch.randn(vocab_size, n_emb)\n",
    "layers = [Linear(n_emb*3, n_hidden), BatchNorm1d(n_hidden), Tanh(),\n",
    "          Linear(n_hidden, n_hidden), BatchNorm1d(n_hidden),Tanh(),\n",
    "          Linear(n_hidden, vocab_size), BatchNorm1d(vocab_size),\n",
    "          ]\n",
    "\n",
    "with torch.no_grad():\n",
    "    layers[-1].gamma *= 0.1\n",
    "\n",
    "    for layer in layers[:-1]:\n",
    "        if isinstance(layer, Linear):\n",
    "            layer.W *= 5/3\n",
    "\n",
    "parameters = [param for layer in layers for param in layer.parameters()]\n",
    "print(f\"Number of parameters: {sum(param.nelement() for param in parameters)}\")\n",
    "for p in parameters:\n",
    "    p.requires_grad = True"
   ]
  },
  {
   "cell_type": "code",
   "execution_count": 596,
   "metadata": {},
   "outputs": [
    {
     "name": "stdout",
     "output_type": "stream",
     "text": [
      "Step 0, Loss 3.2787222862243652\n",
      "Step 3200, Loss 1.9612680673599243\n",
      "Step 6400, Loss 2.0972514152526855\n",
      "Step 9600, Loss 2.4062533378601074\n",
      "Step 12800, Loss 2.0870463848114014\n"
     ]
    }
   ],
   "source": [
    "max_steps = 16000\n",
    "batch_size = 32\n",
    "lossi = []\n",
    "stepi = []\n",
    "\n",
    "for i in range(max_steps):\n",
    "    ix = torch.randint(0, xtrain.shape[0], (batch_size,))\n",
    "    xb, yb = xtrain[ix], ytrain[ix]\n",
    "\n",
    "    emb = C[xb]\n",
    "    x = emb.view(-1, xtrain.shape[1]*n_emb) # n, n_emb*block_size\n",
    "\n",
    "    for layer in layers:\n",
    "        if isinstance(layer, BatchNorm1d):\n",
    "            x = layer(x, training=True)\n",
    "        else:\n",
    "            x = layer(x)\n",
    "    \n",
    "    loss = F.cross_entropy(x, yb)\n",
    "    \n",
    "    for layer in layers:\n",
    "        layer.out.retain_grad()\n",
    "    for p in parameters:\n",
    "        p.grad = None\n",
    "    loss.backward()\n",
    "    lossi.append(loss.log10().item())\n",
    "\n",
    "    lr = 0.1 if i < max_steps/2 else 0.01\n",
    "    with torch.no_grad():\n",
    "        for p in parameters:\n",
    "            p -= lr * p.grad\n",
    "    if i % (max_steps//5) == 0:\n",
    "        print(f\"Step {i}, Loss {loss.item()}\")\n",
    "    "
   ]
  },
  {
   "cell_type": "code",
   "execution_count": 597,
   "metadata": {},
   "outputs": [
    {
     "data": {
      "text/plain": [
       "[<matplotlib.lines.Line2D at 0x1b289738430>]"
      ]
     },
     "execution_count": 597,
     "metadata": {},
     "output_type": "execute_result"
    },
    {
     "data": {
      "image/png": "[encoded data removed]",
      "text/plain": [
       "<Figure size 640x480 with 1 Axes>"
      ]
     },
     "metadata": {},
     "output_type": "display_data"
    }
   ],
   "source": [
    "plt.plot(lossi)"
   ]
  },
  {
   "cell_type": "markdown",
   "metadata": {},
   "source": [
    "# Folding"
   ]
  },
  {
   "cell_type": "markdown",
   "metadata": {},
   "source": [
    "Let $$z = xW + b$$ and $$y = \\gamma * \\frac{(z-\\mu)}{\\sqrt{\\sigma + \\epsilon}} + \\beta$$ Where z is the output of some linear layer, and y the batch normalisation of z. We want to find W2 and b2 so that we can make both operations converge into a single one.\n",
    "Lets start substituting z in y: $$y = \\gamma * \\frac{(xW+b-\\mu)}{\\sqrt{\\sigma + \\epsilon}} + \\beta = \\frac{\\gamma}{\\sqrt{\\sigma + \\epsilon}} xW + [\\frac{\\gamma}{\\sqrt{\\sigma + \\epsilon}} b - \\frac{\\gamma \\mu}{\\sqrt{\\sigma + \\epsilon}} + \\beta ]$$\n",
    "\n",
    "Let $$W2 = W\\frac{\\gamma}{\\sqrt{\\sigma + \\epsilon}}$$ and $$b2 = [\\frac{\\gamma}{\\sqrt{\\sigma + \\epsilon}} b - \\frac{\\gamma \\mu}{\\sqrt{\\sigma + \\epsilon}} + \\beta ]$$ or cleaner: $$b2 = (\\frac{\\gamma}{\\sqrt{\\sigma + \\epsilon}}) (b-\\mu) + \\beta$$"
   ]
  },
  {
   "cell_type": "code",
   "execution_count": 598,
   "metadata": {},
   "outputs": [],
   "source": [
    "example = torch.randn((32, 3), dtype=torch.float32)"
   ]
  },
  {
   "cell_type": "code",
   "execution_count": 599,
   "metadata": {},
   "outputs": [],
   "source": [
    "# normal inference\n",
    "with torch.no_grad():\n",
    "    emb = C[example.long()]\n",
    "    x1 = emb.view(-1, xtrain.shape[1]*n_emb) # n, n_emb*block_size\n",
    "    x3 = emb.view(-1, xtrain.shape[1]*n_emb) # n, n_emb*block_size\n",
    "    for i,layer in enumerate(layers):\n",
    "            if isinstance(layer, BatchNorm1d):\n",
    "                x1 = layer(x1, training=False)\n",
    "                \n",
    "            else:\n",
    "                x1 = layer(x1)"
   ]
  },
  {
   "cell_type": "code",
   "execution_count": 600,
   "metadata": {},
   "outputs": [],
   "source": [
    "# fold batchnorm into linear\n",
    "for i,layer in enumerate(layers):\n",
    "    if isinstance(layer, Linear):\n",
    "        layer.W = layer.W * (layers[i+1].gamma)/torch.sqrt(layers[i+1].running_var + 1e-5) \n",
    "        layer.b = ((layers[i+1].gamma)* (layer.b -layers[i+1].running_mean))/torch.sqrt(layers[i+1].running_var + 1e-5) + layers[i+1].beta\n",
    "\n",
    "# inference\n",
    "with torch.no_grad():\n",
    "    emb = C[example.long()]\n",
    "    x2 = emb.view(-1, xtrain.shape[1]*n_emb) # n, n_emb*block_size\n",
    "\n",
    "    for i,layer in enumerate(layers):\n",
    "        # skiping batchnorm\n",
    "        if isinstance(layer, BatchNorm1d):\n",
    "            continue\n",
    "        else:\n",
    "            x2 = layer(x2)"
   ]
  },
  {
   "cell_type": "code",
   "execution_count": 601,
   "metadata": {},
   "outputs": [
    {
     "name": "stdout",
     "output_type": "stream",
     "text": [
      "True\n"
     ]
    }
   ],
   "source": [
    "# check if the output is the same\n",
    "print(torch.allclose(x1, x2, atol=1e-4))"
   ]
  }
 ],
 "metadata": {
  "kernelspec": {
   "display_name": "venv",
   "language": "python",
   "name": "python3"
  },
  "language_info": {
   "codemirror_mode": {
    "name": "ipython",
    "version": 3
   },
   "file_extension": ".py",
   "mimetype": "text/x-python",
   "name": "python",
   "nbconvert_exporter": "python",
   "pygments_lexer": "ipython3",
   "version": "3.10.10"
  }
 },
 "nbformat": 4,
 "nbformat_minor": 2
}
